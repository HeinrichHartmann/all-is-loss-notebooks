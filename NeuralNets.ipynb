{
 "cells": [
  {
   "cell_type": "code",
   "execution_count": 55,
   "metadata": {},
   "outputs": [],
   "source": [
    "%matplotlib inline\n",
    "from matplotlib import pyplot as plt\n",
    "import matplotlib.cm as cm\n",
    "import numpy as np\n",
    "from scipy.optimize import minimize"
   ]
  },
  {
   "cell_type": "markdown",
   "metadata": {},
   "source": [
    "## Dataset"
   ]
  },
  {
   "cell_type": "code",
   "execution_count": 56,
   "metadata": {},
   "outputs": [],
   "source": [
    "D = np.genfromtxt(\"parts.csv\")"
   ]
  },
  {
   "cell_type": "code",
   "execution_count": 57,
   "metadata": {},
   "outputs": [],
   "source": [
    "d={}\n",
    "d['x']=D[:,2]\n",
    "d['y']=D[:,3]"
   ]
  },
  {
   "cell_type": "code",
   "execution_count": 59,
   "metadata": {},
   "outputs": [
    {
     "data": {
      "image/png": "[encoded data removed]",
      "text/plain": [
       "<matplotlib.figure.Figure at 0x113a029b0>"
      ]
     },
     "metadata": {},
     "output_type": "display_data"
    }
   ],
   "source": [
    "plt.figure(figsize=(10,5))\n",
    "plt.scatter(d['x'],d['y'])\n",
    "plt.xlabel(\"Vibration\")\n",
    "plt.ylabel(\"Error rate\")\n",
    "plt.savefig(\"/Users/hartmann/p-workbench/HeinrichHartmann.github.io/assets/loss-ve.png\",transparent=True, bbox_inches=\"tight\")"
   ]
  },
  {
   "cell_type": "markdown",
   "metadata": {},
   "source": [
    "## Model"
   ]
  },
  {
   "cell_type": "code",
   "execution_count": 60,
   "metadata": {},
   "outputs": [],
   "source": [
    "def sig(x): return 1/(1+np.exp(-x))\n",
    "def relu(x): return max(0,x)"
   ]
  },
  {
   "cell_type": "code",
   "execution_count": 61,
   "metadata": {},
   "outputs": [],
   "source": [
    "def f(x,w): return relu(w[2] + w[3]*sig(w[0] + w[1]*x))"
   ]
  },
  {
   "cell_type": "code",
   "execution_count": 62,
   "metadata": {},
   "outputs": [],
   "source": [
    "def dist(a,b): return (a-b)**2"
   ]
  },
  {
   "cell_type": "code",
   "execution_count": 63,
   "metadata": {},
   "outputs": [],
   "source": [
    "def loss(w,d):\n",
    "    loss = 0\n",
    "    for i in range(len(d['x'])):\n",
    "        x = d['x'][i]\n",
    "        y = d['y'][i]\n",
    "        loss += dist(f(x,w),y)\n",
    "    return loss"
   ]
  },
  {
   "cell_type": "code",
   "execution_count": 64,
   "metadata": {},
   "outputs": [
    {
     "data": {
      "text/plain": [
       "114.78189983460504"
      ]
     },
     "execution_count": 64,
     "metadata": {},
     "output_type": "execute_result"
    }
   ],
   "source": [
    "loss([-3,2,2,1],d)"
   ]
  },
  {
   "cell_type": "markdown",
   "metadata": {},
   "source": [
    "## Minimize the Loss using Numerical Optimization"
   ]
  },
  {
   "cell_type": "code",
   "execution_count": 67,
   "metadata": {},
   "outputs": [
    {
     "name": "stderr",
     "output_type": "stream",
     "text": [
      "/Users/hartmann/anaconda2/envs/py3k/lib/python3.5/site-packages/ipykernel/__main__.py:1: RuntimeWarning: overflow encountered in exp\n",
      "  if __name__ == '__main__':\n"
     ]
    }
   ],
   "source": [
    "def F(w): return loss(w,d)\n",
    "M=minimize(F,[0.2,0.1,0.2,-0.2])"
   ]
  },
  {
   "cell_type": "code",
   "execution_count": 68,
   "metadata": {},
   "outputs": [
    {
     "name": "stdout",
     "output_type": "stream",
     "text": [
      "[-0.1112335  -6.0837704   2.64999994  1.409146  ]\n",
      "113.1894\n"
     ]
    },
    {
     "name": "stderr",
     "output_type": "stream",
     "text": [
      "/Users/hartmann/anaconda2/envs/py3k/lib/python3.5/site-packages/ipykernel/__main__.py:1: RuntimeWarning: overflow encountered in exp\n",
      "  if __name__ == '__main__':\n"
     ]
    }
   ],
   "source": [
    "w_hat=M.x\n",
    "print(w_hat)\n",
    "print(F(w_hat))"
   ]
  },
  {
   "cell_type": "markdown",
   "metadata": {},
   "source": [
    "## Visualize Loss Function"
   ]
  },
  {
   "cell_type": "code",
   "execution_count": 69,
   "metadata": {},
   "outputs": [
    {
     "name": "stderr",
     "output_type": "stream",
     "text": [
      "/Users/hartmann/anaconda2/envs/py3k/lib/python3.5/site-packages/ipykernel/__main__.py:1: RuntimeWarning: overflow encountered in exp\n",
      "  if __name__ == '__main__':\n"
     ]
    },
    {
     "name": "stdout",
     "output_type": "stream",
     "text": [
      "(-5, 5, 10, 0)\n"
     ]
    }
   ],
   "source": [
    "xlim = (-5,5,200)\n",
    "ylim = (0,10,200)\n",
    "X = np.linspace(*xlim)\n",
    "Y = np.linspace(*ylim)\n",
    "Z = np.array([[ F([0.056,x,y,-1.7]) for x in X] for y in Y ])\n",
    "\n",
    "def rescale(Z):\n",
    "    z_min = np.percentile(Z,0)\n",
    "    z_max = np.percentile(Z,80)\n",
    "    z_range = z_max - z_min\n",
    "    Z_scaled = (Z-z_min)/z_range\n",
    "    Z_scaled[Z_scaled > 1] = 1\n",
    "    return Z_scaled\n",
    "\n",
    "Z_scaled = rescale(Z)\n",
    "\n",
    "# left right bottom top\n",
    "extent = (xlim[0],xlim[1],ylim[1],ylim[0])\n",
    "x_range = xlim[1]-xlim[0]\n",
    "y_range = ylim[1]-ylim[0]\n",
    "aspect = x_range/y_range/2\n",
    "print(extent)"
   ]
  },
  {
   "cell_type": "code",
   "execution_count": 70,
   "metadata": {},
   "outputs": [
    {
     "data": {
      "text/plain": [
       "<matplotlib.text.Text at 0x1118a9630>"
      ]
     },
     "execution_count": 70,
     "metadata": {},
     "output_type": "execute_result"
    },
    {
     "data": {
      "image/png": "[encoded data removed]",
      "text/plain": [
       "<matplotlib.figure.Figure at 0x112f01550>"
      ]
     },
     "metadata": {},
     "output_type": "display_data"
    }
   ],
   "source": [
    "plt.figure(figsize=(10,10))\n",
    "plt.imshow(Z,cmap=cm.coolwarm,vmin=np.min(Z),vmax=np.percentile(Z,80), extent=extent, aspect=aspect)\n",
    "plt.contour(X,Y,Z_scaled,[0.0001, 0.001, 0.01, 0.1, 0.5],colors=\"black\")\n",
    "plt.scatter(w_hat[0],w_hat[3])\n",
    "plt.xlabel(\"$w_0$\")\n",
    "plt.ylabel(\"$w_3$\")\n",
    "# plt.savefig(\"/Users/hartmann/p-workbench/HeinrichHartmann.github.io/assets/loss-nn.png\",transparent=True, bbox_inches=\"tight\")"
   ]
  },
  {
   "cell_type": "markdown",
   "metadata": {},
   "source": [
    "## Optimal Model"
   ]
  },
  {
   "cell_type": "code",
   "execution_count": 72,
   "metadata": {},
   "outputs": [
    {
     "name": "stderr",
     "output_type": "stream",
     "text": [
      "/Users/hartmann/anaconda2/envs/py3k/lib/python3.5/site-packages/ipykernel/__main__.py:1: RuntimeWarning: overflow encountered in exp\n",
      "  if __name__ == '__main__':\n"
     ]
    },
    {
     "data": {
      "text/plain": [
       "<matplotlib.text.Text at 0x113628ef0>"
      ]
     },
     "execution_count": 72,
     "metadata": {},
     "output_type": "execute_result"
    },
    {
     "data": {
      "image/png": "[encoded data removed]",
      "text/plain": [
       "<matplotlib.figure.Figure at 0x112f0dcc0>"
      ]
     },
     "metadata": {},
     "output_type": "display_data"
    }
   ],
   "source": [
    "plt.figure(figsize=(10,5))\n",
    "plt.scatter(d['x'],d['y'])\n",
    "r = np.max(d['x']) - np.min(d['x'])\n",
    "X = np.linspace(np.min(d['x'])-0.2*r,np.max(d['x'])+0.2*r,100)\n",
    "Y = [f(x,w_hat) for x in X]\n",
    "plt.plot(X,Y)\n",
    "plt.xlabel(\"Vibration\")\n",
    "plt.ylabel(\"Error rate\")\n",
    "# plt.savefig(\"/Users/hartmann/p-workbench/HeinrichHartmann.github.io/assets/loss-nn-model.png\",transparent=True, bbox_inches=\"tight\")"
   ]
  },
  {
   "cell_type": "code",
   "execution_count": null,
   "metadata": {},
   "outputs": [],
   "source": []
  }
 ],
 "metadata": {
  "kernelspec": {
   "display_name": "Python [py3k]",
   "language": "python",
   "name": "Python [py3k]"
  },
  "language_info": {
   "codemirror_mode": {
    "name": "ipython",
    "version": 3
   },
   "file_extension": ".py",
   "mimetype": "text/x-python",
   "name": "python",
   "nbconvert_exporter": "python",
   "pygments_lexer": "ipython3",
   "version": "3.5.2"
  }
 },
 "nbformat": 4,
 "nbformat_minor": 2
}
